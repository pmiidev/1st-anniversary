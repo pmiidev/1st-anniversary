{
  "nbformat": 4,
  "nbformat_minor": 0,
  "metadata": {
    "colab": {
      "provenance": []
    },
    "kernelspec": {
      "name": "python3",
      "display_name": "Python 3"
    },
    "language_info": {
      "name": "python"
    }
  },
  "cells": [
    {
      "cell_type": "code",
      "execution_count": 13,
      "metadata": {
        "colab": {
          "base_uri": "https://localhost:8080/"
        },
        "id": "w-MB6K7c8y-4",
        "outputId": "8cc61489-ae36-445d-aa9d-569c9b4cbff6"
      },
      "outputs": [
        {
          "output_type": "stream",
          "name": "stdout",
          "text": [
            "    October 2022\n",
            "Mo Tu We Th Fr Sa Su\n",
            "                1  2\n",
            " 3  4  5  6  7  8  9\n",
            "10 11 12 13 14 15 16\n",
            "17 18 19 20 21 22 23\n",
            "24 25 26 27 28 29 30\n",
            "31\n",
            "\n",
            "23 October 2022 \n",
            "Happy 1st Anniversary pmiidev\n"
          ]
        }
      ],
      "source": [
        "import calendar\n",
        "year = 2022\n",
        "month = 10\n",
        "anniv = \"23 October 2022 \\nHappy 1st Anniversary pmiidev\"\n",
        "\n",
        "print(calendar.month(year,month))\n",
        "print(anniv)"
      ]
    },
    {
      "cell_type": "code",
      "source": [
        "import datetime as dt\n",
        "\n",
        "tanggal = int(input(\"Tanggal \\t: \"))\n",
        "bulan = int(input(\"Bulan \\t\\t: \"))\n",
        "tahun = int(input(\"Tahun \\t\\t: \"))\n",
        "\n",
        "tgl_lahir = dt.date(tahun,bulan,tanggal)\n",
        "print(f\"PMIIDEV berdiri : {tgl_lahir}\")\n",
        "\n",
        "hari_ini = dt.date.today()\n",
        "print(f\"Hari ini tanggal: {hari_ini}\")\n",
        "\n",
        "umur_hari = hari_ini - tgl_lahir\n",
        "umur_tahun = umur_hari.days // 365\n",
        "umur_bulan_sisa = (umur_hari.days % 365) // 30\n",
        "\n",
        "print(f\"Hari nya adalah : {tgl_lahir:%A}\")\n",
        "print(f\"Umur PMIIDEV : {umur_tahun} tahun, {umur_bulan_sisa} bulan\")"
      ],
      "metadata": {
        "colab": {
          "base_uri": "https://localhost:8080/"
        },
        "id": "4KLn9VzLDNT_",
        "outputId": "c737e407-6cdc-4ff0-ab4f-d2c08cce6466"
      },
      "execution_count": 23,
      "outputs": [
        {
          "output_type": "stream",
          "name": "stdout",
          "text": [
            "Tanggal \t: 23\n",
            "Bulan \t\t: 10\n",
            "Tahun \t\t: 2021\n",
            "PMIIDEV berdiri : 2021-10-23\n",
            "Hari ini tanggal: 2022-10-23\n",
            "Hari nya adalah : Saturday\n",
            "Umur PMIIDEV : 1 tahun, 0 bulan\n"
          ]
        }
      ]
    }
  ]
}